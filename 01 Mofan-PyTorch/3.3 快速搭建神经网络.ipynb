{
 "cells": [
  {
   "cell_type": "code",
   "execution_count": 28,
   "metadata": {
    "ExecuteTime": {
     "end_time": "2020-07-18T08:30:40.371074Z",
     "start_time": "2020-07-18T08:30:40.366073Z"
    }
   },
   "outputs": [],
   "source": [
    "import torch\n",
    "import torch.nn.functional as F\n",
    "from torch.autograd import Variable\n",
    "import matplotlib.pyplot as plt\n",
    "%matplotlib qt5"
   ]
  },
  {
   "cell_type": "code",
   "execution_count": 29,
   "metadata": {
    "ExecuteTime": {
     "end_time": "2020-07-18T08:30:40.613129Z",
     "start_time": "2020-07-18T08:30:40.605127Z"
    }
   },
   "outputs": [
    {
     "name": "stdout",
     "output_type": "stream",
     "text": [
      "x size: torch.Size([100, 1])\n",
      "y size: torch.Size([100, 1])\n"
     ]
    }
   ],
   "source": [
    "x = torch.unsqueeze(torch.linspace(-1, 1, 100), dim=1)  # torch.Size([100, 1])\n",
    "print('x size:', x.size())  \n",
    "y = x.pow(2) + 0.2*torch.rand(x.size())\n",
    "print('y size:', y.size()) \n",
    "x, y = Variable(x), Variable(y)"
   ]
  },
  {
   "cell_type": "markdown",
   "metadata": {},
   "source": [
    "构建网络更加简便的方法"
   ]
  },
  {
   "cell_type": "code",
   "execution_count": 30,
   "metadata": {
    "ExecuteTime": {
     "end_time": "2020-07-18T08:30:41.218265Z",
     "start_time": "2020-07-18T08:30:41.213264Z"
    }
   },
   "outputs": [
    {
     "name": "stdout",
     "output_type": "stream",
     "text": [
      "Sequential(\n",
      "  (0): Linear(in_features=1, out_features=10, bias=True)\n",
      "  (1): ReLU()\n",
      "  (2): Linear(in_features=10, out_features=1, bias=True)\n",
      ")\n"
     ]
    }
   ],
   "source": [
    "net = torch.nn.Sequential(\n",
    "    torch.nn.Linear(1, 10),\n",
    "    torch.nn.ReLU(),  # 此处ReLU为一个类\n",
    "    torch.nn.Linear(10, 1)\n",
    ")\n",
    "print(net)"
   ]
  },
  {
   "cell_type": "code",
   "execution_count": 31,
   "metadata": {
    "ExecuteTime": {
     "end_time": "2020-07-18T08:30:54.596261Z",
     "start_time": "2020-07-18T08:30:41.661364Z"
    }
   },
   "outputs": [],
   "source": [
    "optimizer = torch.optim.SGD(net.parameters(), lr=0.5)\n",
    "loss_func = torch.nn.MSELoss()\n",
    "plt.ion()  # 动态显示图像\n",
    "# plt.show()\n",
    "for t in range(500):\n",
    "    # prediction = net.forward(x) # 自动调用forward \n",
    "    # model(x)的时候，底层自动调用forward方法计算结果\n",
    "    prediction = net(x)  # torch.Size([100, 1])  # 注意可以不调用forward() \n",
    "    # print('Prediction size:', prediction.size())\n",
    "    loss = loss_func(prediction, y)\n",
    "    # 优化三步走\n",
    "    optimizer.zero_grad()\n",
    "    loss.backward()\n",
    "    optimizer.step()\n",
    "    # 每5步打印一次\n",
    "    if t % 5 == 0:\n",
    "        plt.cla()  # 清楚当前figure中活动的axes\n",
    "        plt.scatter(x.data.numpy(), y.data.numpy())  # 原图\n",
    "        plt.plot(x.data.numpy(), prediction.data.numpy(), 'r-', lw=5)  # 拟合线段\n",
    "        plt.text(0.5, 0, 'Loss=%.4f' % loss.data.numpy(), fontdict={'size':10, 'color':'red'})\n",
    "        plt.pause(0.1)\n",
    "plt.ioff()\n",
    "plt.show()"
   ]
  },
  {
   "cell_type": "code",
   "execution_count": null,
   "metadata": {},
   "outputs": [],
   "source": []
  }
 ],
 "metadata": {
  "kernelspec": {
   "display_name": "Python 3",
   "language": "python",
   "name": "python3"
  },
  "language_info": {
   "codemirror_mode": {
    "name": "ipython",
    "version": 3
   },
   "file_extension": ".py",
   "mimetype": "text/x-python",
   "name": "python",
   "nbconvert_exporter": "python",
   "pygments_lexer": "ipython3",
   "version": "3.7.4"
  }
 },
 "nbformat": 4,
 "nbformat_minor": 2
}
