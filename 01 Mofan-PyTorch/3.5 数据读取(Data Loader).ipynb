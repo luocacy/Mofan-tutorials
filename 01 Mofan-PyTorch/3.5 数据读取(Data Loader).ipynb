{
 "cells": [
  {
   "cell_type": "markdown",
   "metadata": {},
   "source": [
    "# 数据读取 / 批训练"
   ]
  },
  {
   "cell_type": "code",
   "execution_count": 6,
   "metadata": {},
   "outputs": [
    {
     "data": {
      "text/plain": [
       "<torch._C.Generator at 0x2341443bbf0>"
      ]
     },
     "execution_count": 6,
     "metadata": {},
     "output_type": "execute_result"
    }
   ],
   "source": [
    "import torch\n",
    "import torch.utils.data as Data\n",
    "import torch\n",
    "import torch.utils.data as Data\n",
    "torch.manual_seed(1)    # reprodu"
   ]
  },
  {
   "cell_type": "code",
   "execution_count": 7,
   "metadata": {},
   "outputs": [],
   "source": [
    "BATCH_SIZE = 5"
   ]
  },
  {
   "cell_type": "code",
   "execution_count": 8,
   "metadata": {},
   "outputs": [],
   "source": [
    "x = torch.linspace(1, 10, 10)\n",
    "y = torch.linspace(10, 1, 10)"
   ]
  },
  {
   "cell_type": "code",
   "execution_count": 11,
   "metadata": {},
   "outputs": [],
   "source": [
    "# 新版把之前的data_tensor 和target_tensor去掉了，输入变成了可变参数，也就是我们平常使用*args\n",
    "# torch.dataset = Data.TensorDataset(data_tensor=x, target_tensor=y)  # 原版\n",
    "torch_dataset = Data.TensorDataset(x, y)  # 新版"
   ]
  },
  {
   "cell_type": "code",
   "execution_count": 17,
   "metadata": {},
   "outputs": [],
   "source": [
    "loader = Data.DataLoader(\n",
    "    dataset = torch_dataset,\n",
    "    batch_size = BATCH_SIZE,\n",
    "    shuffle = True,\n",
    "    num_workers = 2\n",
    ")"
   ]
  },
  {
   "cell_type": "code",
   "execution_count": 22,
   "metadata": {},
   "outputs": [
    {
     "name": "stdout",
     "output_type": "stream",
     "text": [
      "Epoch:  0  step:  0  batch x:  [5. 1. 3. 7. 6.]  batch_y:  [ 6. 10.  8.  4.  5.]\n",
      "Epoch:  0  step:  1  batch x:  [10.  9.  8.  2.  4.]  batch_y:  [1. 2. 3. 9. 7.]\n",
      "Epoch:  1  step:  0  batch x:  [3. 9. 4. 1. 7.]  batch_y:  [ 8.  2.  7. 10.  4.]\n",
      "Epoch:  1  step:  1  batch x:  [ 8.  5.  6. 10.  2.]  batch_y:  [3. 6. 5. 1. 9.]\n",
      "Epoch:  2  step:  0  batch x:  [1. 5. 3. 2. 8.]  batch_y:  [10.  6.  8.  9.  3.]\n",
      "Epoch:  2  step:  1  batch x:  [ 6.  9.  7. 10.  4.]  batch_y:  [5. 2. 4. 1. 7.]\n",
      "Epoch:  3  step:  0  batch x:  [1. 6. 4. 3. 8.]  batch_y:  [10.  5.  7.  8.  3.]\n",
      "Epoch:  3  step:  1  batch x:  [ 5. 10.  7.  9.  2.]  batch_y:  [6. 1. 4. 2. 9.]\n",
      "Epoch:  4  step:  0  batch x:  [4. 8. 9. 3. 5.]  batch_y:  [7. 3. 2. 8. 6.]\n",
      "Epoch:  4  step:  1  batch x:  [ 6.  1.  2. 10.  7.]  batch_y:  [ 5. 10.  9.  1.  4.]\n"
     ]
    }
   ],
   "source": [
    "for epoch in range(5):\n",
    "    for step, (batch_x, batch_y) in enumerate(loader):\n",
    "        # training \n",
    "    \n",
    "        print('Epoch: ', epoch, ' step: ', step, ' batch x: ', batch_x.numpy(), ' batch_y: ', batch_y.numpy())"
   ]
  },
  {
   "cell_type": "code",
   "execution_count": null,
   "metadata": {},
   "outputs": [],
   "source": []
  }
 ],
 "metadata": {
  "kernelspec": {
   "display_name": "py3.6",
   "language": "python",
   "name": "py3.6"
  },
  "language_info": {
   "codemirror_mode": {
    "name": "ipython",
    "version": 3
   },
   "file_extension": ".py",
   "mimetype": "text/x-python",
   "name": "python",
   "nbconvert_exporter": "python",
   "pygments_lexer": "ipython3",
   "version": "3.6.10"
  }
 },
 "nbformat": 4,
 "nbformat_minor": 2
}
