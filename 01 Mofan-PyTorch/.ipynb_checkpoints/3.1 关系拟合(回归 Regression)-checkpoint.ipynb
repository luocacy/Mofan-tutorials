{
 "cells": [
  {
   "cell_type": "markdown",
   "metadata": {},
   "source": [
    "## 关系拟合(回归 Regression)"
   ]
  },
  {
   "cell_type": "code",
   "execution_count": 82,
   "metadata": {
    "ExecuteTime": {
     "end_time": "2020-07-17T03:52:17.637327Z",
     "start_time": "2020-07-17T03:52:16.403529Z"
    }
   },
   "outputs": [],
   "source": [
    "import torch\n",
    "from torch.autograd import Variable\n",
    "import torch.nn.functional as F\n",
    "import matplotlib.pyplot as plt\n",
    "%matplotlib qt5  # figure窗口显示动态图像"
   ]
  },
  {
   "cell_type": "markdown",
   "metadata": {},
   "source": [
    "生成数据"
   ]
  },
  {
   "cell_type": "code",
   "execution_count": 83,
   "metadata": {
    "ExecuteTime": {
     "end_time": "2020-07-17T03:52:17.648839Z",
     "start_time": "2020-07-17T03:52:17.639329Z"
    }
   },
   "outputs": [
    {
     "name": "stdout",
     "output_type": "stream",
     "text": [
      "x size: torch.Size([100, 1])\n",
      "y size: torch.Size([100, 1])\n"
     ]
    }
   ],
   "source": [
    "# x = torch.linspace(-1, 1, 100)  # 注意别拼错linspace  # torch.Size([100])\n",
    "# x = torch.unsqueeze(torch.linspace(-1, 1, 100), dim=0)  # torch.Size([1, 100])\n",
    "x = torch.unsqueeze(torch.linspace(-1, 1, 100), dim=1)  # torch.Size([100, 1])\n",
    "print('x size:', x.size())  \n",
    "y = x.pow(2) + 0.2*torch.rand(x.size())\n",
    "print('y size:', y.size()) \n",
    "x, y = Variable(x), Variable(y)\n",
    "# x, y = Variable(x, requires_grad=True), Variable(y, requires_grad=True)"
   ]
  },
  {
   "cell_type": "markdown",
   "metadata": {},
   "source": [
    "打印散点图"
   ]
  },
  {
   "cell_type": "code",
   "execution_count": 84,
   "metadata": {
    "ExecuteTime": {
     "end_time": "2020-07-17T03:52:19.690361Z",
     "start_time": "2020-07-17T03:52:17.650843Z"
    }
   },
   "outputs": [],
   "source": [
    "plt.scatter(x.data.numpy(), y.data.numpy())\n",
    "plt.show()"
   ]
  },
  {
   "cell_type": "markdown",
   "metadata": {},
   "source": [
    "定义Net类"
   ]
  },
  {
   "cell_type": "code",
   "execution_count": 85,
   "metadata": {
    "ExecuteTime": {
     "end_time": "2020-07-17T03:52:19.698364Z",
     "start_time": "2020-07-17T03:52:19.691361Z"
    }
   },
   "outputs": [],
   "source": [
    "class Net(torch.nn.Module):\n",
    "    def __init__(self, n_feature, n_hidden, n_output):  # 定义层,但未搭建好神经网络\n",
    "        super(Net, self).__init__()\n",
    "        self.hidden = torch.nn.Linear(n_feature, n_hidden)\n",
    "        self.predict = torch.nn.Linear(n_hidden, n_output)\n",
    "        \n",
    "    def forward(self, x):  # 搭建好神经网络\n",
    "        x = F.relu(self.hidden(x))  # 是x不是self.x\n",
    "        x = self.predict(x)  # 激活函数会有截断效果，所以末层一般不适用激活函数\n",
    "        return x"
   ]
  },
  {
   "cell_type": "markdown",
   "metadata": {},
   "source": [
    "搭建神经网络、优化器和损失函数"
   ]
  },
  {
   "cell_type": "code",
   "execution_count": 86,
   "metadata": {
    "ExecuteTime": {
     "end_time": "2020-07-17T03:52:19.707364Z",
     "start_time": "2020-07-17T03:52:19.700364Z"
    }
   },
   "outputs": [
    {
     "name": "stdout",
     "output_type": "stream",
     "text": [
      "Net(\n",
      "  (hidden): Linear(in_features=1, out_features=10, bias=True)\n",
      "  (predict): Linear(in_features=10, out_features=1, bias=True)\n",
      ")\n"
     ]
    }
   ],
   "source": [
    "net = Net(1, 10, 1)  \n",
    "print(net)  # 查看所搭建的网络\n",
    "optimizer = torch.optim.SGD(net.parameters(), lr=0.5)\n",
    "loss_func = torch.nn.MSELoss()"
   ]
  },
  {
   "cell_type": "markdown",
   "metadata": {},
   "source": [
    "训练网络，绘制动态图像"
   ]
  },
  {
   "cell_type": "code",
   "execution_count": 89,
   "metadata": {
    "ExecuteTime": {
     "end_time": "2020-07-17T03:53:26.940107Z",
     "start_time": "2020-07-17T03:53:14.325122Z"
    },
    "scrolled": true
   },
   "outputs": [],
   "source": [
    "plt.ion()  # 动态显示图像\n",
    "# plt.show()\n",
    "for t in range(500):\n",
    "    # prediction = net.forward(x) # 自动调用forward \n",
    "    # model(x)的时候，底层自动调用forward方法计算结果\n",
    "    prediction = net(x)  # torch.Size([100, 1])  # 注意可以不调用forward() \n",
    "    # print('Prediction size:', prediction.size())\n",
    "    loss = loss_func(prediction, y)\n",
    "    # 优化三步走\n",
    "    optimizer.zero_grad()\n",
    "    loss.backward()\n",
    "    optimizer.step()\n",
    "    # 每5步打印一次\n",
    "    if t % 5 == 0:\n",
    "        plt.cla()  # 清楚当前figure中活动的axes\n",
    "        plt.scatter(x.data.numpy(), y.data.numpy())  # 原图\n",
    "        plt.plot(x.data.numpy(), prediction.data.numpy(), 'r-', lw=5)  # 拟合线段\n",
    "        plt.text(0.5, 0, 'Loss=%.4f' % loss.data.numpy(), fontdict={'size':10, 'color':'red'})\n",
    "        plt.pause(0.1)\n",
    "plt.ioff()\n",
    "plt.show()"
   ]
  },
  {
   "cell_type": "code",
   "execution_count": null,
   "metadata": {},
   "outputs": [],
   "source": []
  },
  {
   "cell_type": "code",
   "execution_count": null,
   "metadata": {},
   "outputs": [],
   "source": []
  }
 ],
 "metadata": {
  "kernelspec": {
   "display_name": "Python 3",
   "language": "python",
   "name": "python3"
  },
  "language_info": {
   "codemirror_mode": {
    "name": "ipython",
    "version": 3
   },
   "file_extension": ".py",
   "mimetype": "text/x-python",
   "name": "python",
   "nbconvert_exporter": "python",
   "pygments_lexer": "ipython3",
   "version": "3.7.4"
  }
 },
 "nbformat": 4,
 "nbformat_minor": 2
}
